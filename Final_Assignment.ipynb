{
 "cells": [
  {
   "cell_type": "markdown",
   "id": "0e5fb1ca-20f0-423f-8013-09a7f82ddb71",
   "metadata": {
    "tags": []
   },
   "source": [
    "# My Jupyter Notebook on IBM Watson Studio"
   ]
  },
  {
   "cell_type": "markdown",
   "id": "587baca6-3c11-4818-8180-7cfbea305753",
   "metadata": {
    "tags": []
   },
   "source": [
    "**Julian Chow**\n",
    "\n",
    "Digital Forensics Support Technician"
   ]
  },
  {
   "cell_type": "markdown",
   "id": "617d052c-96d2-4ca0-a855-630dd9211667",
   "metadata": {},
   "source": [
    "*I am interested in data science because it is closely related to AI and Machine Learning*"
   ]
  },
  {
   "cell_type": "markdown",
   "id": "558d2b84-1678-4282-8a11-476f7b948d2b",
   "metadata": {},
   "source": [
    "### Mathematical operations"
   ]
  },
  {
   "cell_type": "code",
   "execution_count": null,
   "id": "60f6c77e-2087-4c07-8801-94e2d08de96a",
   "metadata": {
    "tags": []
   },
   "outputs": [],
   "source": [
    "3*5/2*3"
   ]
  },
  {
   "cell_type": "markdown",
   "id": "5bb9ffb5-045c-40a6-813f-6ba426be98a9",
   "metadata": {},
   "source": [
    "| This | is  | Cool | Stuff |\n",
    "| ---- |:---:| ---: |:---   |\n",
    "| 1234 | 567 | 8    |9\n",
    "| 9101 | 11  | 12   |13     |\n",
    "___\n",
    "* Very\n",
    "* Cool\n",
    "* Indeed\n"
   ]
  },
  {
   "cell_type": "code",
   "execution_count": null,
   "id": "5af4c784-6499-45aa-af23-0d859928091a",
   "metadata": {},
   "outputs": [],
   "source": []
  }
 ],
 "metadata": {
  "kernelspec": {
   "display_name": "Python",
   "language": "python",
   "name": "conda-env-python-py"
  },
  "language_info": {
   "codemirror_mode": {
    "name": "ipython",
    "version": 3
   },
   "file_extension": ".py",
   "mimetype": "text/x-python",
   "name": "python",
   "nbconvert_exporter": "python",
   "pygments_lexer": "ipython3",
   "version": "3.7.12"
  }
 },
 "nbformat": 4,
 "nbformat_minor": 5
}
